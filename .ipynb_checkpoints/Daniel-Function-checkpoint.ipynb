{
 "cells": [
  {
   "cell_type": "code",
   "execution_count": 7,
   "id": "c4a3b1ba-abfc-47f5-a6c1-a3677254ab73",
   "metadata": {},
   "outputs": [],
   "source": [
    "# Importing python packages \n",
    "import numpy as np  # numpy!\n",
    "import seaborn as sns # visualisation!\n",
    "import matplotlib.pyplot as plt # visualisation!\n",
    "import pandas as pd # dataframes & data analysis!\n",
    "## need this for train test split \n",
    "from sklearn.model_selection import train_test_split\n",
    "from time import sleep\n",
    "\n",
    "## need a modeling library (statsmodels) \n",
    "import statsmodels.api as sm\n",
    "import statsmodels.tools"
   ]
  },
  {
   "cell_type": "code",
   "execution_count": 4,
   "id": "447f00aa-7e27-49f6-86f3-adddd5ca9e4e",
   "metadata": {},
   "outputs": [],
   "source": [
    "# Importing the data \n",
    "dataset = 'Life Expectancy Data.csv'\n",
    "df = pd.read_csv(dataset)"
   ]
  },
  {
   "cell_type": "code",
   "execution_count": 33,
   "id": "a68f1162",
   "metadata": {},
   "outputs": [],
   "source": [
    "class OptionError (Exception):\n",
    "    def __init__(self, message=\"Invalid input. Please enter either 'r' or 'e'.\"):\n",
    "        self.message = message\n",
    "        super().__init__(self.message)"
   ]
  },
  {
   "cell_type": "code",
   "execution_count": 42,
   "id": "2dc579ab",
   "metadata": {},
   "outputs": [],
   "source": [
    "def select_calculator():\n",
    "    while True:\n",
    "        try:\n",
    "            user_input = str(input(\"Please enter 'r' for Regular Calculator or 'e' for Ethical Calculator: \")).strip().lower()\n",
    "            if user_input not in ['r', 'e']:\n",
    "                raise OptionError()\n",
    "            return user_input\n",
    "        except OptionError as e:\n",
    "            print(e)"
   ]
  },
  {
   "cell_type": "code",
   "execution_count": 67,
   "id": "8a521f51",
   "metadata": {},
   "outputs": [],
   "source": [
    "def regular_calculator():\n",
    "    const_r = 50.6467\n",
    "    gdp_coeff = 0.8224\n",
    "    adult_mort_coeff = -6.6833\n",
    "    polio_coeff = 0.0679\n",
    "    schooling_coeff = 2.5424\n",
    "    alcohol_cnsp_coeff = 0.1028\n",
    "    \n",
    "    while True:\n",
    "        try:\n",
    "            gdp = float(input(\"\\nPlease enter GDP in USD per capita: \"))\n",
    "            if gdp <= 0:\n",
    "                raise ValueError(\"\\nGDP must be a positive number\")\n",
    "            gdp_log = np.log(gdp)\n",
    "            \n",
    "            adult_mort = float(input(\"\\nPlease enter Adult Mortatlity rate in per 1000 popoulation: \"))\n",
    "            if adult_mort < 0:\n",
    "                raise ValueError(\"\\nAdult must be a non-negative number\")\n",
    "            adult_mort_scl = (adult_mort - 192.774636)/114.557698\n",
    "            \n",
    "            polio = float(input(\"\\nPlease enter Polio inmunization coverage among 1-year-olds in percentage (without '%'): \"))\n",
    "            if not (0 <= polio <= 100):\n",
    "                raise ValueError(\"\\nPolio must be between 0 and 100\")\n",
    "            \n",
    "            schooling = float(input(\"\\nPlease enter Schooling  in number of years: \"))\n",
    "            if schooling <= 0:\n",
    "                raise ValueError(\"\\nSchooling must be a positive number\")\n",
    "            schooling_log = np.log(schooling)\n",
    "            \n",
    "            alcohol_cnsp = float(input(\"\\nPlease enter Alcohol Consumption in liters of pure alcohol: \"))\n",
    "            if alcohol_cnsp < 0:\n",
    "                raise ValueError(\"\\nAlcohol Consumption must be a non-negative number\")\n",
    "    \n",
    "            life_expectancy_r = (const_r + \n",
    "                                gdp_coeff * gdp_log + \n",
    "                                adult_mort_coeff * adult_mort_scl +\n",
    "                                polio_coeff * polio +\n",
    "                                schooling_coeff * schooling_log +\n",
    "                                alcohol_cnsp_coeff * alcohol_cnsp\n",
    "                                )\n",
    "                        \n",
    "            return round(life_expectancy_r, 2)\n",
    "\n",
    "        except ValueError as ve:\n",
    "            print(f\"\\nInvalid input: {ve}. Please try again.\")"
   ]
  },
  {
   "cell_type": "code",
   "execution_count": 66,
   "id": "863951d0",
   "metadata": {},
   "outputs": [],
   "source": [
    "def ethical_calculator():\n",
    "    const_r = 47.4399\n",
    "    gdp_coeff = 1.5755\n",
    "    adult_mort_coeff = -6.6045\n",
    "    polio_coeff = 0.0939\n",
    "    \n",
    "    while True:\n",
    "        try:\n",
    "            gdp = float(input(\"\\nPlease enter GDP in USD per capita: \"))\n",
    "            if gdp <= 0:\n",
    "                raise ValueError(\"\\nGDP must be a positive number\")\n",
    "            gdp_log = np.log(gdp)\n",
    "            \n",
    "            adult_mort = float(input(\"\\nPlease enter Adult Mortatlity rate in per 1000 popoulation: \"))\n",
    "            if adult_mort < 0:\n",
    "                raise ValueError(\"\\nAdult must be a non-negative number\")\n",
    "            adult_mort_scl = (adult_mort - 192.774636)/114.557698\n",
    "            \n",
    "            polio = float(input(\"\\nPlease enter Polio inmunization coverage among 1-year-olds in percentage (without '%'): \"))\n",
    "            if not (0 <= polio <= 100):\n",
    "                raise ValueError(\"\\nPolio must be between 0 and 100\")\n",
    "                \n",
    "            life_expectancy_e = (const_r + \n",
    "                                gdp_coeff * gdp_log + \n",
    "                                adult_mort_coeff * adult_mort_scl +\n",
    "                                polio_coeff * polio\n",
    "                                )\n",
    "\n",
    "                        \n",
    "            return round(life_expectancy_e, 2)\n",
    "        \n",
    "        except ValueError as ve:\n",
    "            print(f\"\\nInvalid input: {ve}. Please try again.\")"
   ]
  },
  {
   "cell_type": "code",
   "execution_count": 69,
   "id": "9c285b4c",
   "metadata": {},
   "outputs": [],
   "source": [
    "def life_expectancy_calculator():\n",
    "    print(\"\"\"Hello, welcome to the Life Expectancy Calculator! With this tool, \n",
    "it will ask you for different data points, and in return it will print out \n",
    "a life expectancy value in years\"\"\")\n",
    "    sleep(5.0)\n",
    "    print(\"\"\"\\nThey will be two different calculation types: Regular or Ethical\"\"\")\n",
    "    sleep(2.0)\n",
    "    print(\"\"\"\\nRegular Calculation: it will ask you to enter different inputs in the\n",
    "units specified\"\"\")\n",
    "    sleep(3.0)\n",
    "    print(\"\"\"\\nEthical Calculation: it will ask you to enter different inputs in the\n",
    "units specified. These inputs will not include any data that requieres\n",
    "personal information, only goverment collected data\\n\"\"\")\n",
    "    \n",
    "    sleep(3.0)\n",
    "    option = select_calculator()\n",
    "    \n",
    "    if option == \"r\":\n",
    "        life_expectancy_r = regular_calculator()\n",
    "        print(f\"\\nLife Expectancy is {life_expectancy_r} years.\")\n",
    "    else:\n",
    "        life_expectancy_e = ethical_calculator()\n",
    "        print(f\"\\nLife Expectancy is {life_expectancy_e}years.\")"
   ]
  },
  {
   "cell_type": "code",
   "execution_count": 68,
   "id": "79a1d19a",
   "metadata": {},
   "outputs": [
    {
     "name": "stdout",
     "output_type": "stream",
     "text": [
      "Hello, welcome to the Life Expectancy Calculator! With this tool, \n",
      "it will ask you for different data points, and in return it will print out \n",
      "a life expectancy value in years\n",
      "\n",
      "They will be two different calculation types: Regular or Ethical\n",
      "\n",
      "Regular Calculation: it will ask you to enter different inputs in the\n",
      "units specified\n",
      "\n",
      "Ethical Calculation: it will ask you to enter different inputs in the\n",
      "units specified. These inputs will not include any data that requieres\n",
      "personal information, only goverment collected data\n",
      "\n",
      "Please enter 'r' for Regular Calculator or 'e' for Ethical Calculator: e\n",
      "\n",
      "Please enter GDP in USD per capita: 100\n",
      "\n",
      "Please enter Adult Mortatlity rate in per 1000 popoulation: 999\n",
      "\n",
      "Please enter Polio inmunization coverage among 1-year-olds in percentage (without '%'): 20\n",
      "\n",
      "Life Expectancy is 10.09\n"
     ]
    }
   ],
   "source": [
    "life_expectancy_calculator()"
   ]
  }
 ],
 "metadata": {
  "kernelspec": {
   "display_name": "Python 3 (ipykernel)",
   "language": "python",
   "name": "python3"
  },
  "language_info": {
   "codemirror_mode": {
    "name": "ipython",
    "version": 3
   },
   "file_extension": ".py",
   "mimetype": "text/x-python",
   "name": "python",
   "nbconvert_exporter": "python",
   "pygments_lexer": "ipython3",
   "version": "3.11.7"
  }
 },
 "nbformat": 4,
 "nbformat_minor": 5
}
