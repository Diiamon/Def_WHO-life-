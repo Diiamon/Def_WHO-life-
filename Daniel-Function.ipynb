{
 "cells": [
  {
   "cell_type": "code",
   "execution_count": 3,
   "id": "c4a3b1ba-abfc-47f5-a6c1-a3677254ab73",
   "metadata": {},
   "outputs": [],
   "source": [
    "# Importing python packages \n",
    "import numpy as np  # numpy!\n",
    "import seaborn as sns # visualisation!\n",
    "import matplotlib.pyplot as plt # visualisation!\n",
    "import pandas as pd # dataframes & data analysis!\n",
    "## need this for train test split \n",
    "from sklearn.model_selection import train_test_split\n",
    "from time import sleep\n",
    "\n",
    "## need a modeling library (statsmodels) \n",
    "import statsmodels.api as sm\n",
    "import statsmodels.tools"
   ]
  },
  {
   "cell_type": "code",
   "execution_count": 4,
   "id": "447f00aa-7e27-49f6-86f3-adddd5ca9e4e",
   "metadata": {},
   "outputs": [],
   "source": [
    "# Importing the data \n",
    "dataset = 'Life Expectancy Data.csv'\n",
    "df = pd.read_csv(dataset)"
   ]
  },
  {
   "cell_type": "code",
   "execution_count": null,
   "id": "545ac19e",
   "metadata": {},
   "outputs": [],
   "source": [
    "class OptionError (Exception):\n",
    "    "
   ]
  },
  {
   "cell_type": "code",
   "execution_count": 1,
   "id": "fc44ce5d",
   "metadata": {},
   "outputs": [],
   "source": [
    "def life_expectancy_calculator():\n",
    "    print(\"\"\"Hello, welcome to the Life Expectancy Calculator! With this tool,\n",
    "          it will ask you for different data points, and in return it will\n",
    "          return a life expectancy in years\"\"\")\n",
    "    sleep(5.0)\n",
    "    print(\"\"\"They will be two different calculation types: Regular or Ethical\"\"\")\n",
    "    sleep(2.0)\n",
    "    print(\"\"\"Regular Calculation: it will ask you to enter different inputs in the\n",
    "          units specified\"\"\")\n",
    "    sleep(2.0)\n",
    "    print(\"\"\"Ethical Calculation: it will ask you to enter different inputs in the\n",
    "          units specified. These inputs will not include any data that requieres\n",
    "          personal information, only goverment collected data\"\"\")\n",
    "    while True:\n",
    "        try:\n",
    "            option = input(\"Please enter 'r' for 'Regular Calculation' or 'e' for Ethical Calculation:\")\n",
    "        \n",
    "            if option == \"r\"\n",
    "                data_input = input(\"Please enter 'X' in 'Y': \")\n",
    "                data_input = input(\"Please enter 'X' in 'Y': \")\n",
    "                data_input = input(\"Please enter 'X' in 'Y': \")\n",
    "            else\n",
    "                data_input = input(\"Please enter 'X' in 'Y': \")\n",
    "                data_input = input(\"Please enter 'X' in 'Y': \")\n",
    "                data_input = input(\"Please enter 'X' in 'Y': \")"
   ]
  }
 ],
 "metadata": {
  "kernelspec": {
   "display_name": "Python 3 (ipykernel)",
   "language": "python",
   "name": "python3"
  },
  "language_info": {
   "codemirror_mode": {
    "name": "ipython",
    "version": 3
   },
   "file_extension": ".py",
   "mimetype": "text/x-python",
   "name": "python",
   "nbconvert_exporter": "python",
   "pygments_lexer": "ipython3",
   "version": "3.11.7"
  }
 },
 "nbformat": 4,
 "nbformat_minor": 5
}
