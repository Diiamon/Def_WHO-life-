{
 "cells": [
  {
   "cell_type": "code",
   "execution_count": 7,
   "id": "c4a3b1ba-abfc-47f5-a6c1-a3677254ab73",
   "metadata": {},
   "outputs": [],
   "source": [
    "# Importing python packages \n",
    "import numpy as np  # numpy!\n",
    "import seaborn as sns # visualisation!\n",
    "import matplotlib.pyplot as plt # visualisation!\n",
    "import pandas as pd # dataframes & data analysis!\n",
    "## need this for train test split \n",
    "from sklearn.model_selection import train_test_split\n",
    "from time import sleep\n",
    "\n",
    "## need a modeling library (statsmodels) \n",
    "import statsmodels.api as sm\n",
    "import statsmodels.tools"
   ]
  },
  {
   "cell_type": "code",
   "execution_count": 4,
   "id": "447f00aa-7e27-49f6-86f3-adddd5ca9e4e",
   "metadata": {},
   "outputs": [],
   "source": [
    "# Importing the data \n",
    "dataset = 'Life Expectancy Data.csv'\n",
    "df = pd.read_csv(dataset)"
   ]
  },
  {
   "cell_type": "code",
   "execution_count": 12,
   "id": "2a10e05a",
   "metadata": {},
   "outputs": [],
   "source": [
    "class OptionError (Exception):\n",
    "    def __init__(self, message=\"Invalid input. Please enter either 'r' or 'e'.\"):\n",
    "        self.message = message\n",
    "        super().__init__(self.message)"
   ]
  },
  {
   "cell_type": "code",
   "execution_count": 13,
   "id": "81401c7c",
   "metadata": {},
   "outputs": [],
   "source": [
    "def select_calculator():\n",
    "    while True:\n",
    "        try:\n",
    "            user_input = input(str(\"Please enter 'r' for Regular Calculator or 'e' for Ethical Calculator: \")).strip().lower()\n",
    "            if user_input not in ['r', 'e']:\n",
    "                raise OptionError()\n",
    "            return user_input\n",
    "        except OptionError as e:\n",
    "            print(e)"
   ]
  },
  {
   "cell_type": "code",
   "execution_count": null,
   "id": "32a3d315",
   "metadata": {},
   "outputs": [],
   "source": [
    "def regular_calculator():\n",
    "    coefficient = X\n",
    "    data_value = input(\"Please enter 'X' in 'Y' units: \")\n",
    "    data_conversion = data_value and something\n",
    "    life_expectancy_r = data_conversion*coefficient\n",
    "    return life_expectancy_r"
   ]
  },
  {
   "cell_type": "code",
   "execution_count": null,
   "id": "45930d8e",
   "metadata": {},
   "outputs": [],
   "source": [
    "def ethical_calculator():\n",
    "    coefficient = X\n",
    "    data_value = input(\"Please enter 'X' in 'Y' units: \")\n",
    "    data_conversion = data_value and something\n",
    "    life_expectancy_e = data_conversion*coefficient\n",
    "    return life_expectancy_e"
   ]
  },
  {
   "cell_type": "code",
   "execution_count": 24,
   "id": "0b46478f",
   "metadata": {},
   "outputs": [],
   "source": [
    "def life_expectancy_calculator():\n",
    "    print(\"\"\"Hello, welcome to the Life Expectancy Calculator! With this tool, \n",
    "it will ask you for different data points, and in return it will print out \n",
    "a life expectancy value in years\"\"\")\n",
    "    sleep(5.0)\n",
    "    print(\"\"\"\\nThey will be two different calculation types: Regular or Ethical\"\"\")\n",
    "    sleep(1.0)\n",
    "    print(\"\"\"\\nRegular Calculation: it will ask you to enter different inputs in the\n",
    "units specified\"\"\")\n",
    "    sleep(3.0)\n",
    "    print(\"\"\"\\nEthical Calculation: it will ask you to enter different inputs in the\n",
    "units specified. These inputs will not include any data that requieres\n",
    "personal information, only goverment collected data\\n\"\"\")\n",
    "    \n",
    "    sleep(3.0)\n",
    "    option = select_calculator()\n",
    "    \n",
    "    if option == \"r\":\n",
    "        print(\"\\nyou have selected the regular calculator\")\n",
    "    else:\n",
    "        print(\"\\nyou have selected the ethical calculator\")"
   ]
  },
  {
   "cell_type": "code",
   "execution_count": null,
   "id": "51f85fef",
   "metadata": {},
   "outputs": [],
   "source": [
    "life_expectancy_calculator()"
   ]
  }
 ],
 "metadata": {
  "kernelspec": {
   "display_name": "Python 3 (ipykernel)",
   "language": "python",
   "name": "python3"
  },
  "language_info": {
   "codemirror_mode": {
    "name": "ipython",
    "version": 3
   },
   "file_extension": ".py",
   "mimetype": "text/x-python",
   "name": "python",
   "nbconvert_exporter": "python",
   "pygments_lexer": "ipython3",
   "version": "3.11.7"
  }
 },
 "nbformat": 4,
 "nbformat_minor": 5
}
